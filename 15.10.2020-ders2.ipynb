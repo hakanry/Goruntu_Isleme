{
 "cells": [
  {
   "cell_type": "code",
   "execution_count": null,
   "metadata": {},
   "outputs": [],
   "source": [
    "import os \n",
    "import numpy as np\n",
    "import matplotlib.pyplot as plt"
   ]
  },
  {
   "cell_type": "code",
   "execution_count": null,
   "metadata": {},
   "outputs": [],
   "source": [
    "def compare_list_ndarray():\n",
    "    list_1=[1,\"goruntu!\",\"4\",5,6]\n",
    "    list_2=[2,\"isleme!\",\"4123\",5,\"6\"]\n",
    "    \n",
    "    print(list_1+list_2)\n",
    "    \n",
    "    list_1=[1,2,3,4]\n",
    "    list_2=[1,2,3,4]\n",
    "    list_1+list_2+[10]\n",
    "    print(list_1+list_2+[10])\n",
    "    \n",
    "    list_3=np.asarray([1,2,3,4])\n",
    "    list_4=np.asarray([1,2,3,4])\n",
    "    print(list_3+list_4+[10])\n",
    "    \n",
    "def get_jpeg_files():\n",
    "    os.getcwd()\n",
    "    os.listdir()\n",
    "    path=os.getcwd()\n",
    "    path=os.getcwd()\n",
    "    jpg_files = [f for f in os.listdir(path) if f.endswith('.jpg')]\n",
    "    return jpg_files\n",
    "\n",
    "get_jpeg_files()\n",
    "compare_list_ndarray()\n",
    "get_jpeg_files()\n"
   ]
  },
  {
   "cell_type": "code",
   "execution_count": null,
   "metadata": {},
   "outputs": [],
   "source": [
    "def display_two_image(im_1,im_2):\n",
    "    plt.subplot(1,2,1)\n",
    "    plt.imshow(image_1)\n",
    "    \n",
    "    plt.subplot(1,2,2)\n",
    "    plt.imshow(image_2+30)\n",
    "    \n",
    "    plt.show()\n",
    "def rotate(im_1):\n",
    "    \n",
    "    m,n,k=im_1.shape\n",
    "    \n",
    "    new_image=np.zeros((m,n,k)dtype='uint8')\n",
    "    \n",
    "    for i in range(m):\n",
    "        for j in range(n):\n",
    "            temp=image_1[i,j]\n",
    "            new_image[j,i]=temp\n",
    "            \n",
    "        return new_image"
   ]
  }
 ],
 "metadata": {
  "kernelspec": {
   "display_name": "Python 3",
   "language": "python",
   "name": "python3"
  },
  "language_info": {
   "codemirror_mode": {
    "name": "ipython",
    "version": 3
   },
   "file_extension": ".py",
   "mimetype": "text/x-python",
   "name": "python",
   "nbconvert_exporter": "python",
   "pygments_lexer": "ipython3",
   "version": "3.8.3"
  }
 },
 "nbformat": 4,
 "nbformat_minor": 4
}
