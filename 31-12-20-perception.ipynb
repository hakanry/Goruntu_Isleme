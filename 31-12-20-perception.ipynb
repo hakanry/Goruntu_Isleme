{
 "cells": [
  {
   "cell_type": "code",
   "execution_count": 9,
   "metadata": {},
   "outputs": [],
   "source": [
    "import numpy as np\n",
    " \n",
    "class Perceptron(object):\n",
    "    \"\"\"Implements a perceptron network\"\"\"\n",
    "    def __init__(self, input_size, lr=1, epochs=10):\n",
    "        self.W = np.zeros(input_size+1)\n",
    "        # add one for bias\n",
    "        self.epochs = epochs\n",
    "        self.lr = lr\n",
    "    def activation_fn(self, x):\n",
    "        return 1 if x >= 0 else 0\n",
    "    def predict(self, x):\n",
    "        x = np.insert(x, 0, 1)\n",
    "        z = self.W.T.dot(x)\n",
    "        a = self.activation_fn(z)\n",
    "        return a\n",
    "    def fit(self, X, d):\n",
    "        for _ in range(self.epochs):\n",
    "            for i in range(d.shape[0]):\n",
    "                y = self.predict(X[i])\n",
    "                e = d[i] - y\n",
    "                self.W = self.W + self.lr * e * np.insert(X[i], 0, 1)"
   ]
  },
  {
   "cell_type": "code",
   "execution_count": 10,
   "metadata": {},
   "outputs": [
    {
     "name": "stdout",
     "output_type": "stream",
     "text": [
      "[-3.  2.  1.]\n"
     ]
    }
   ],
   "source": [
    "X = np.array([\n",
    "        [0, 0],\n",
    "        [0, 1],\n",
    "        [1, 0],\n",
    "        [1, 1]\n",
    "    ])\n",
    "d = np.array([0, 0, 0, 1])\n",
    " \n",
    "perceptron = Perceptron(input_size=2)\n",
    "perceptron.fit(X, d)\n",
    "print(perceptron.W)"
   ]
  },
  {
   "cell_type": "code",
   "execution_count": null,
   "metadata": {},
   "outputs": [],
   "source": [
    "# SORU1 - \n",
    "#    \n",
    "#    __init__ :      Constructor metodudur. \n",
    "#                    Epochs döngünün ne kadar dönmesini belirlemek içindir.\n",
    "#                    Lr ise W değeri için ne kadar büyük olması gerektiğini belirleyen ölçeklendirme değişkenidir.\n",
    "#    \n",
    "#    activation_fn : x değerinin işaretine göre 0 - 1 değeri üretiyor. Negatifse 0 , pozitif ise 1 döndürüyor.\n",
    "#\n",
    "#    predict :       Veri listesine göre gerçek sonuca ulaşılabilir bir sonuç yani y değeri üretiyor.\n",
    "#\n",
    "#    fit :           Bu fonksiyon ile gerçek sonuç - y ile error değeri hesaplanıyor. \n",
    "#                    Error değerinin bulunması ile yeni W değeri elde ediliyor."
   ]
  },
  {
   "cell_type": "code",
   "execution_count": 4,
   "metadata": {},
   "outputs": [
    {
     "name": "stdout",
     "output_type": "stream",
     "text": [
      "[-1.  1.  1.]\n"
     ]
    }
   ],
   "source": [
    "# SORU2 -\n",
    "\n",
    "X = np.array([\n",
    "        [0, 0],\n",
    "        [0, 1],\n",
    "        [1, 0],\n",
    "        [1, 1]\n",
    "    ])\n",
    "d = np.array([0, 1, 1, 1])\n",
    " \n",
    "perceptron = Perceptron(input_size=2)\n",
    "perceptron.fit(X, d)\n",
    "print(perceptron.W)"
   ]
  },
  {
   "cell_type": "code",
   "execution_count": null,
   "metadata": {},
   "outputs": [],
   "source": [
    "# SORU3 - \n",
    "#         X değeri öğrencilerin imzası olup 40 adet olmalıdır.\n",
    "#         d değeri bu imzalara karşılık gelen öğrencinin imzasından elde edilmiş bir değer olup 40 adet olmalıdır.\n",
    "#         Predict fonksiyonu ise öğrencilerin imzasına ait intensity değerleri ile bir değer elde etmeye çalışır."
   ]
  },
  {
   "cell_type": "code",
   "execution_count": null,
   "metadata": {},
   "outputs": [],
   "source": [
    "# SORU4 - \n",
    "#         Bu modelde hata gerçek sonuç ile W değerinin arasındaki farktır. \n",
    "#         W değeri sonuca yaklaşmak için ürettiğimiz sonuç benzeri çözümdür."
   ]
  }
 ],
 "metadata": {
  "kernelspec": {
   "display_name": "Python 3",
   "language": "python",
   "name": "python3"
  },
  "language_info": {
   "codemirror_mode": {
    "name": "ipython",
    "version": 3
   },
   "file_extension": ".py",
   "mimetype": "text/x-python",
   "name": "python",
   "nbconvert_exporter": "python",
   "pygments_lexer": "ipython3",
   "version": "3.8.3"
  }
 },
 "nbformat": 4,
 "nbformat_minor": 4
}
